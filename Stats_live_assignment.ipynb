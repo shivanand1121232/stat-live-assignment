{
  "nbformat": 4,
  "nbformat_minor": 0,
  "metadata": {
    "colab": {
      "provenance": []
    },
    "kernelspec": {
      "name": "python3",
      "display_name": "Python 3"
    },
    "language_info": {
      "name": "python"
    }
  },
  "cells": [
    {
      "cell_type": "markdown",
      "source": [
        "1. Explain the different types of data (qualitative and quantitative) and provide examples of each. Discuss\n",
        "nominal, ordinal, interval, and ratio scales\n"
      ],
      "metadata": {
        "id": "M3rBWPxrDlrj"
      }
    },
    {
      "cell_type": "markdown",
      "source": [
        "Data can generally be classified into two main types: qualitative and quantitative. Here’s a breakdown of each type, along with the various scales of measurement.\n",
        "\n",
        "Qualitative Data\n",
        "Qualitative data describes characteristics or qualities that cannot be measured numerically. It’s often categorical and provides insights into the attributes of a subject.\n",
        "\n",
        "Examples:\n",
        "\n",
        "Nominal Data: This is the simplest form of data, which can be categorized but not ranked. Examples include:\n",
        "\n",
        "Types of fruits (apple, orange, banana)\n",
        "Hair color (blonde, brown, black)\n",
        "Ordinal Data: This type involves categories that can be ordered or ranked but do not have a defined distance between them. Examples include:\n",
        "\n",
        "Survey responses like satisfaction levels (satisfied, neutral, dissatisfied)\n",
        "Education levels (high school, bachelor’s, master’s)\n",
        "Quantitative Data\n",
        "Quantitative data represents numerical values and can be measured or counted. This type of data can be further divided into two subcategories based on the scale of measurement.\n",
        "\n",
        "Examples:\n",
        "\n",
        "Interval Data: This type has numerical values with meaningful differences between them but lacks a true zero point. Examples include:\n",
        "\n",
        "Temperature in Celsius or Fahrenheit (20°C is not \"twice as hot\" as 10°C)\n",
        "Dates (the difference between 2000 and 2010 is meaningful, but 0 does not indicate an absence of time)\n",
        "Ratio Data: This type also has meaningful differences and includes a true zero point, allowing for the calculation of ratios. Examples include:\n",
        "\n",
        "Height (0 cm means no height)\n",
        "Weight (0 kg means no weight)"
      ],
      "metadata": {
        "id": "1Gse_2hiDrLs"
      }
    },
    {
      "cell_type": "markdown",
      "source": [
        "2.  What are the measures of central tendency, and when should you use each? Discuss the mean, median,\n",
        "and mode with examples and situations where each is appropriate"
      ],
      "metadata": {
        "id": "bFojmgEqDzBX"
      }
    },
    {
      "cell_type": "code",
      "execution_count": null,
      "metadata": {
        "id": "imSi7SIh1ZSj"
      },
      "outputs": [],
      "source": [
        "# 1. Mean\n",
        "# The mean is the average of a set of numbers. It is calculated by summing all values and dividing by the count of those values\n",
        "\n",
        "data = [2, 4, 6, 8, 10]\n",
        "mean = sum(data) / len(data)\n",
        "print(\"Mean:\", mean)\n",
        "\n",
        "# 2. Median\n",
        "# The median is the middle value of a data set when ordered. If there’s an even number of values, it’s the average of the two middle values\n",
        "\n",
        "data_odd = [2, 4, 6, 8, 10]\n",
        "data_even = [2, 4, 6, 8]\n",
        "\n",
        "def calculate_median(data):\n",
        "    sorted_data = sorted(data)\n",
        "    n = len(sorted_data)\n",
        "    mid = n // 2\n",
        "    if n % 2 == 0:\n",
        "        return (sorted_data[mid - 1] + sorted_data[mid]) / 2\n",
        "    else:\n",
        "        return sorted_data[mid]\n",
        "\n",
        "median_odd = calculate_median(data_odd)\n",
        "median_even = calculate_median(data_even)\n",
        "\n",
        "print(\"Median (odd):\", median_odd)\n",
        "print(\"Median (even):\", median_even)\n",
        "\n",
        "# 3. Mode\n",
        "# The mode is the most frequently occurring value in a data set. A data set can have one mode, multiple modes (bimodal or multimodal), or no mode\n",
        "\n",
        "from collections import Counter\n",
        "\n",
        "data1 = [1, 2, 2, 3, 4]\n",
        "data2 = [1, 1, 2, 2, 3]\n",
        "\n",
        "def calculate_mode(data):\n",
        "    count = Counter(data)\n",
        "    max_count = max(count.values())\n",
        "    modes = [key for key, value in count.items() if value == max_count]\n",
        "    return modes\n",
        "\n",
        "mode1 = calculate_mode(data1)\n",
        "mode2 = calculate_mode(data2)\n",
        "\n",
        "print(\"Mode (single):\", mode1)\n",
        "print(\"Mode (bimodal):\", mode2)"
      ]
    },
    {
      "cell_type": "markdown",
      "source": [
        "3. Explain the concept of dispersion. How do variance and standard deviation measure the spread of data?"
      ],
      "metadata": {
        "id": "zNQGn3QXFg5R"
      }
    },
    {
      "cell_type": "code",
      "source": [
        "# Two common measures of dispersion are variance and standard deviation. Both quantify how much the values in a dataset deviate from the mean\n",
        "\n",
        "# 1. Variance\n",
        "# Variance measures the average of the squared differences between each data point and the mean. It provides an indication of how spread out the data points are.\n",
        "\n",
        "data = [2, 4, 6, 8, 10]\n",
        "mean = sum(data) / len(data)\n",
        "variance = sum((x - mean) ** 2 for x in data) / (len(data) - 1)\n",
        "print(\"Variance:\", variance)\n",
        "\n",
        "# 2. Standard Deviation\n",
        "# Standard deviation is the square root of variance. It provides a measure of dispersion in the same units as the original data, making it more interpretable\n",
        "\n",
        "import math\n",
        "\n",
        "standard_deviation = math.sqrt(variance)\n",
        "print(\"Standard Deviation:\", standard_deviation)"
      ],
      "metadata": {
        "id": "9tb8Jh2VFqjl"
      },
      "execution_count": null,
      "outputs": []
    },
    {
      "cell_type": "markdown",
      "source": [
        "4. What is a box plot, and what can it tell you about the distribution of data?\n",
        "\n"
      ],
      "metadata": {
        "id": "LATC9zoFGNMT"
      }
    },
    {
      "cell_type": "markdown",
      "source": [
        "A box plot (or box-and-whisker plot) is a graphical representation of a dataset that summarizes its key statistical features. It provides a visual overview of the distribution, central tendency, and variability of the data. Here’s a breakdown of its components and what it reveals about the data distribution.\n",
        "\n",
        "Components of a Box Plot\n",
        "Box:\n",
        "\n",
        "The central box represents the interquartile range (IQR), which contains the middle 50% of the data.\n",
        "The bottom of the box is the first quartile (Q1) (25th percentile), and the top of the box is the third quartile (Q3) (75th percentile).\n",
        "Median Line:\n",
        "\n",
        "A line inside the box indicates the median (the 50th percentile) of the dataset.\n",
        "Whiskers:\n",
        "\n",
        "Lines extending from the box (the whiskers) represent the range of the data, typically extending to the smallest and largest values within 1.5 times the IQR from Q1 and Q3.\n",
        "Values outside this range are considered outliers.\n",
        "Outliers:\n",
        "\n",
        "Points that fall beyond the whiskers are plotted individually, indicating values that are significantly lower or higher than the rest of the data.\n",
        "What a Box Plot Reveals\n",
        "Central Tendency: The median line shows the center of the dataset.\n",
        "Spread of the Data: The width of the box indicates the IQR, reflecting the variability of the middle 50% of the data.\n",
        "Skewness: The position of the median line within the box (toward the top or bottom) can indicate skewness:\n",
        "If the median is closer to Q1, the data may be right-skewed (positively skewed).\n",
        "If it is closer to Q3, the data may be left-skewed (negatively skewed).\n",
        "Outliers: Individual points beyond the whiskers highlight outliers, which can be important for further analysis.\n",
        "Comparative Analysis: Box plots are useful for comparing distributions between multiple groups, making them ideal for visualizing differences in datasets.\n",
        "Example of a Box Plot\n",
        "If you have a dataset representing the scores of students in a class:\n",
        "\n",
        "Data: [56, 67, 70, 75, 80, 82, 85, 88, 90, 95]\n",
        "Box Plot Representation: You would create a box plot with:\n",
        "Q1 at 70\n",
        "Median at 80\n",
        "Q3 at 88\n",
        "Whiskers extending to the minimum and maximum values within 1.5 IQRs"
      ],
      "metadata": {
        "id": "kb7eWzegGYP5"
      }
    },
    {
      "cell_type": "markdown",
      "source": [
        "5. Discuss the role of random sampling in making inferences about populations"
      ],
      "metadata": {
        "id": "nZqLZaOwGlRR"
      }
    },
    {
      "cell_type": "markdown",
      "source": [
        "Random sampling is a crucial method in statistics that allows researchers to make inferences about a larger population based on a smaller subset (sample) of that population. Here’s a discussion on its role and importance:\n",
        "\n",
        "1. Random sampling involves selecting individuals from a population in such a way that each individual has an equal chance of being chosen. This method helps eliminate biases that could distort the representation of the population\n",
        "\n",
        "2. Random sampling plays a key role in statistical inference, which is the process of drawing conclusions about a population based on sample data. Here are some of its key contributions\n",
        "\n",
        "a) Random samples tend to be more representative of the population. By ensuring that every member has an equal chance of selection, researchers can avoid systematic biases that might skew the results\n",
        "\n",
        "b) This representativeness is essential for generalizing findings from the sample to the larger population\n",
        "\n",
        "3. While random sampling is powerful, it also presents challenges\n",
        "\n",
        "a) Sample Size: The larger the sample, the more reliable the inferences. Small samples may not capture the diversity of the population.\n",
        "\n",
        "b) Practicality: In some cases, it may be difficult or costly to obtain a truly random sample, leading researchers to use convenience sampling or other methods that may introduce bias.\n",
        "\n",
        "c) on-response: Even with random sampling, if certain individuals do not respond, it can lead to bias if the non-respondents differ significantly from respondents.\n"
      ],
      "metadata": {
        "id": "-osJ9FfRG52B"
      }
    },
    {
      "cell_type": "markdown",
      "source": [
        "6.  Explain the concept of skewness and its types. How does skewness affect the interpretation of data?"
      ],
      "metadata": {
        "id": "LzUtTPg7H1O6"
      }
    },
    {
      "cell_type": "markdown",
      "source": [
        "Skewness is a statistical measure that describes the asymmetry of a probability distribution. It indicates the extent to which data points deviate from a normal distribution, which is symmetric. Understanding skewness is important for interpreting data accurately and for selecting appropriate statistical methods\n",
        "\n",
        "1. Positive Skewness (Right Skewness)\n",
        "\n",
        "a) In a positively skewed distribution, the tail on the right side is longer or fatter than the left side. Most data points are concentrated on the left, with a few extreme values on the right\n",
        "\n",
        "b) Example: Income distribution in many societies, where most people earn below the average income, but a small number earn significantly more.\n",
        "\n",
        "2. Negative Skewness (Left Skewness)\n",
        "\n",
        "a) In a negatively skewed distribution, the tail on the left side is longer or fatter than the right side. Most data points are concentrated on the right, with a few extreme values on the left\n",
        "\n",
        "b) Example: Age at retirement, where most people retire around the same age, but a few retire much earlier\n",
        "\n",
        "3. Zero Skewness (Symmetrical)\n",
        "\n",
        "a) A distribution is considered symmetrical if it has no skewness, meaning that the left and right sides are mirror images. The normal distribution is an example of this\n",
        "\n",
        "How Skewness Affects Interpretation of Data:-\n",
        "\n",
        "Skewness affects the relationship between the mean, median, and mode. In positively skewed data, the mean is pulled to the right, often giving a misleading representation of the \"typical\" value. Conversely, in negatively skewed data, the mean is pulled to the left\n",
        "\n",
        "Many statistical tests assume normality (zero skewness). If data is skewed, the assumptions of these tests may be violated, leading to unreliable results\n",
        "\n",
        "In business and social sciences, understanding skewness helps in decision-making processes. For instance, if customer satisfaction scores are positively skewed, it may suggest that while most customers are satisfied, a small number are very dissatisfied"
      ],
      "metadata": {
        "id": "TErz2LbnH6FA"
      }
    },
    {
      "cell_type": "markdown",
      "source": [
        "7.  What is the interquartile range (IQR), and how is it used to detect outliers?"
      ],
      "metadata": {
        "id": "xZVRYHa0JV9T"
      }
    },
    {
      "cell_type": "code",
      "source": [
        "# The interquartile range (IQR) is a measure of statistical dispersion that quantifies the spread of the middle 50% of a dataset\n",
        "# It is particularly useful for detecting outliers. Here’s how to calculate the IQR and use it to identify outliers using Python\n",
        "\n",
        "import numpy as np\n",
        "\n",
        "data = [1, 3, 5, 7, 9, 11, 13, 15, 17]\n",
        "\n",
        "Q1 = np.percentile(data, 25)\n",
        "Q3 = np.percentile(data, 75)\n",
        "\n",
        "IQR = Q3 - Q1\n",
        "\n",
        "lower_boundary = Q1 - 1.5 * IQR\n",
        "upper_boundary = Q3 + 1.5 * IQR\n",
        "\n",
        "outliers = [x for x in data if x < lower_boundary or x > upper_boundary]\n",
        "\n",
        "print(\"Q1:\", Q1)\n",
        "print(\"Q3:\", Q3)\n",
        "print(\"IQR:\", IQR)\n",
        "print(\"Lower Boundary:\", lower_boundary)\n",
        "print(\"Upper Boundary:\", upper_boundary)\n",
        "print(\"Outliers:\", outliers)"
      ],
      "metadata": {
        "id": "QoRTrFb0KVxn"
      },
      "execution_count": null,
      "outputs": []
    },
    {
      "cell_type": "markdown",
      "source": [
        "8. Discuss the conditions under which the binomial distribution is used"
      ],
      "metadata": {
        "id": "BcG0psztKshH"
      }
    },
    {
      "cell_type": "code",
      "source": [
        "#The binomial distribution is a discrete probability distribution that describes the number of\n",
        "#successes in a fixed number of independent Bernoulli trials, each with the same probability of success\n",
        "\n",
        "import numpy as np\n",
        "from scipy.stats import binom\n",
        "import matplotlib.pyplot as plt\n",
        "\n",
        "# Parameters\n",
        "n = 10  # number of trials\n",
        "p = 0.5  # probability of success\n",
        "k = 4    # number of successes\n",
        "\n",
        "# Calculate the probability of getting exactly k successes\n",
        "probability_k_successes = binom.pmf(k, n, p)\n",
        "print(f\"Probability of getting exactly {k} successes in {n} trials: {probability_k_successes:.4f}\")\n",
        "\n",
        "# Calculate cumulative probability of getting at most k successes\n",
        "cumulative_prob = binom.cdf(k, n, p)\n",
        "print(f\"Cumulative probability of getting at most {k} successes: {cumulative_prob:.4f}\")\n",
        "\n",
        "x = np.arange(0, n + 1)\n",
        "binomial_pmf = binom.pmf(x, n, p)\n",
        "\n",
        "plt.bar(x, binomial_pmf)\n",
        "plt.title(f'Binomial Distribution PMF (n={n}, p={p})')\n",
        "plt.xlabel('Number of Successes')\n",
        "plt.ylabel('Probability')\n",
        "plt.xticks(x)\n",
        "plt.show()"
      ],
      "metadata": {
        "id": "XIPbkVFELS1v"
      },
      "execution_count": null,
      "outputs": []
    },
    {
      "cell_type": "markdown",
      "source": [
        "9.  Explain the properties of the normal distribution and the empirical rule (68-95-99.7 rule)."
      ],
      "metadata": {
        "id": "K6d97szyLnZa"
      }
    },
    {
      "cell_type": "code",
      "source": [
        "# The normal distribution is a key concept in statistics, characterized by its symmetry, defined by mean and standard deviation, and described by the empirical rule\n",
        "# The Python code demonstrates how to visualize these properties effectively, providing a clearer understanding of the distribution and the empirical rule\n",
        "\n",
        "import numpy as np\n",
        "import matplotlib.pyplot as plt\n",
        "import scipy.stats as stats\n",
        "\n",
        "mu = 0\n",
        "sigma = 1\n",
        "\n",
        "x = np.linspace(mu - 4*sigma, mu + 4*sigma, 1000)\n",
        "y = stats.norm.pdf(x, mu, sigma)\n",
        "\n",
        "plt.figure(figsize=(10, 6))\n",
        "plt.plot(x, y, label='Normal Distribution', color='blue')\n",
        "\n",
        "plt.fill_between(x, y, where=(x >= mu - sigma) & (x <= mu + sigma), color='lightblue', alpha=0.5, label='68%')\n",
        "plt.fill_between(x, y, where=(x >= mu - 2*sigma) & (x <= mu + 2*sigma), color='lightgreen', alpha=0.5, label='95%')\n",
        "plt.fill_between(x, y, where=(x >= mu - 3*sigma) & (x <= mu + 3*sigma), color='lightcoral', alpha=0.5, label='99.7%')\n",
        "\n",
        "plt.title('Normal Distribution with Empirical Rule')\n",
        "plt.xlabel('Value')\n",
        "plt.ylabel('Probability Density')\n",
        "plt.axvline(mu, color='black', linestyle='--', label='Mean (μ)')\n",
        "plt.legend()\n",
        "plt.grid()\n",
        "plt.show()"
      ],
      "metadata": {
        "id": "mzbJk1YxMrGl"
      },
      "execution_count": null,
      "outputs": []
    },
    {
      "cell_type": "markdown",
      "source": [
        "10.  Provide a real-life example of a Poisson process and calculate the probability for a specific event"
      ],
      "metadata": {
        "id": "ijJvvfPjM_3Q"
      }
    },
    {
      "cell_type": "code",
      "source": [
        "# A classic example of a Poisson process is the number of customers arriving at a bank during a specific hour\n",
        "#  Assume that, on average, 3 customers arrive at the bank every hour\n",
        "\n",
        "import math\n",
        "\n",
        "lambda_value = 3\n",
        "k = 5\n",
        "\n",
        "probability = (math.exp(-lambda_value) * (lambda_value ** k)) / math.factorial(k)\n",
        "\n",
        "print(f\"Probability of exactly {k} customers arriving: {probability:.4f}\")"
      ],
      "metadata": {
        "id": "-yGbZeCMOOVU"
      },
      "execution_count": null,
      "outputs": []
    },
    {
      "cell_type": "markdown",
      "source": [
        "11.  Explain what a random variable is and differentiate between discrete and continuous random variables"
      ],
      "metadata": {
        "id": "ba1GwPjxQ4_K"
      }
    },
    {
      "cell_type": "markdown",
      "source": [
        "A random variable is a numerical outcome of a random phenomenon. It is a function that assigns a real number to each possible outcome of a random experiment. Random variables are fundamental in statistics and probability theory because they allow us to quantify and analyze the variability of outcomes\n",
        "\n",
        "1. Discrete Random Variables\n",
        "\n",
        "A discrete random variable can take on a countable number of distinct values. These values are often integers, and each value can be associated with a specific probability. Discrete random variables are used to represent scenarios where the outcomes can be enumerated\n",
        "\n",
        "2. Continuous Random Variables\n",
        "\n",
        "A continuous random variable can take on an infinite number of possible values within a given range. These values are not countable, and the random variable is often associated with measurements. Continuous random variables represent scenarios where outcomes can vary smoothly."
      ],
      "metadata": {
        "id": "JTp-FaSaRLvE"
      }
    },
    {
      "cell_type": "markdown",
      "source": [
        "12. Provide an example dataset, calculate both covariance and correlation, and interpret the results"
      ],
      "metadata": {
        "id": "PIO4p9MoRaFh"
      }
    },
    {
      "cell_type": "code",
      "source": [
        "import numpy as np\n",
        "import pandas as pd\n",
        "\n",
        "data = {\n",
        "    'Hours_Studied': [2, 3, 4, 5, 6, 7],\n",
        "    'Exam_Score': [65, 70, 75, 80, 85, 90]\n",
        "}\n",
        "\n",
        "df = pd.DataFrame(data)\n",
        "\n",
        "covariance = np.cov(df['Hours_Studied'], df['Exam_Score'])[0][1]\n",
        "\n",
        "correlation = np.corrcoef(df['Hours_Studied'], df['Exam_Score'])[0][1]\n",
        "\n",
        "print(f\"Covariance: {covariance:.2f}\")\n",
        "print(f\"Correlation: {correlation:.2f}\")"
      ],
      "metadata": {
        "id": "OGgH7suWRdnQ"
      },
      "execution_count": null,
      "outputs": []
    }
  ]
}